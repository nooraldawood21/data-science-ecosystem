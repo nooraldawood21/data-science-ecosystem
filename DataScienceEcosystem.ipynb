{
 "cells": [
  {
   "cell_type": "markdown",
   "id": "60f2ca33-b461-41d7-a6f7-478af9d5ae27",
   "metadata": {},
   "source": [
    "# Data Science Tools and Ecosystem"
   ]
  },
  {
   "cell_type": "markdown",
   "id": "fdaaa8e4-cb5a-48aa-86fb-92cb499980e8",
   "metadata": {},
   "source": [
    "In this notebook, I will summarize some of the tools and techniques used by data scientists. I will include examples of languages, libraries, tools, and simple arithmetic operations."
   ]
  },
  {
   "cell_type": "markdown",
   "id": "461c739e-3c5a-4f53-8f44-06c9c0bcc971",
   "metadata": {},
   "source": [
    "## Some of the popular languages that Data Scientists use are:\n",
    "1. Python\n",
    "2. R\n",
    "3. SQL\n",
    "4. Julia"
   ]
  },
  {
   "cell_type": "markdown",
   "id": "8f00b7df-6f0a-4d1a-876f-a7a57c643b1b",
   "metadata": {},
   "source": [
    "## Commonly used libraries used by Data Scientists include:\n",
    "- Pandas\n",
    "- NumPy\n",
    "- Matplotlib\n",
    "- Scikit-learn\n",
    "- TensorFlow"
   ]
  },
  {
   "cell_type": "markdown",
   "id": "fc01fa02-8de8-4aec-bb50-907e26ec4d50",
   "metadata": {},
   "source": [
    "## Data Science Tools\n",
    "\n",
    "| Tool | Category |\n",
    "|------|----------|\n",
    "| Jupyter Notebook | IDE |\n",
    "| RStudio | IDE |\n",
    "| Apache Spark | Big Data |\n",
    "| TensorFlow | Deep Learning |\n",
    "| Tableau | Visualization |"
   ]
  },
  {
   "cell_type": "markdown",
   "id": "0c3a46d9-e173-4314-920f-bbc2cd6a9663",
   "metadata": {},
   "source": [
    "### Below are a few examples of evaluating arithmetic expressions in Python"
   ]
  },
  {
   "cell_type": "code",
   "execution_count": 4,
   "id": "caf23dc4-3cac-4c4b-996d-c93193fb3714",
   "metadata": {},
   "outputs": [
    {
     "data": {
      "text/plain": [
       "17"
      ]
     },
     "execution_count": 4,
     "metadata": {},
     "output_type": "execute_result"
    }
   ],
   "source": [
    "# This expression multiplies 3 by 4 and adds 5 to the result\n",
    "(3 * 4) + 5"
   ]
  },
  {
   "cell_type": "code",
   "execution_count": 5,
   "id": "0f923d5b-6ad9-4a3c-9b41-3baa9f6fe879",
   "metadata": {},
   "outputs": [
    {
     "data": {
      "text/plain": [
       "3.3333333333333335"
      ]
     },
     "execution_count": 5,
     "metadata": {},
     "output_type": "execute_result"
    }
   ],
   "source": [
    "# This will convert 200 minutes to hours\n",
    "200 / 60"
   ]
  },
  {
   "cell_type": "markdown",
   "id": "503343a8-59e3-426b-b8af-d9f1cd340530",
   "metadata": {},
   "source": [
    "## Objectives:\n",
    "- List popular languages for Data Science\n",
    "- List commonly used libraries\n",
    "- List popular tools in a table\n",
    "- Perform arithmetic expressions\n",
    "- Convert minutes to hours"
   ]
  },
  {
   "cell_type": "markdown",
   "id": "f7559e02-d449-4a30-b44c-d4d6483895fd",
   "metadata": {},
   "source": [
    "## Author:\n",
    "Noor Aldawood"
   ]
  },
  {
   "cell_type": "code",
   "execution_count": null,
   "id": "689de534-1b5a-4fec-aadd-e654a2ea0647",
   "metadata": {},
   "outputs": [],
   "source": []
  }
 ],
 "metadata": {
  "kernelspec": {
   "display_name": "Python 3 (ipykernel)",
   "language": "python",
   "name": "python3"
  },
  "language_info": {
   "codemirror_mode": {
    "name": "ipython",
    "version": 3
   },
   "file_extension": ".py",
   "mimetype": "text/x-python",
   "name": "python",
   "nbconvert_exporter": "python",
   "pygments_lexer": "ipython3",
   "version": "3.12.8"
  }
 },
 "nbformat": 4,
 "nbformat_minor": 5
}
